{
 "cells": [
  {
   "cell_type": "markdown",
   "id": "4e866511-dd20-4787-a550-a380e5e220df",
   "metadata": {},
   "source": [
    "Q.No-01    What is Abstraction in OOps? Explain with an example."
   ]
  },
  {
   "cell_type": "markdown",
   "id": "5ef8d395-9638-43e6-87fb-566989050019",
   "metadata": {},
   "source": [
    "Ans:"
   ]
  },
  {
   "cell_type": "markdown",
   "id": "4f57da30-7f1e-4ade-9ba7-5a1a4e07ffa1",
   "metadata": {},
   "source": [
    "In object-oriented programming (OOP), abstraction is a fundamental concept that allows you to represent complex real-world entities as simplified models within your code. It involves focusing on essential characteristics and behavior while hiding unnecessary details.\n",
    "\n",
    "In Python, abstraction is typically achieved through the use of abstract classes and interfaces. An abstract class is a class that cannot be instantiated and serves as a blueprint for derived classes. It may contain abstract methods (methods without implementation) and concrete methods (methods with implementation). The abstract methods define a contract that any class inheriting from the abstract class must fulfill by providing their own implementation."
   ]
  },
  {
   "cell_type": "markdown",
   "id": "1d0f1fd0-c7fc-443e-861c-192461342e9a",
   "metadata": {},
   "source": [
    "Example:"
   ]
  },
  {
   "cell_type": "code",
   "execution_count": 1,
   "id": "79e8adde-3479-474f-b801-8e0090f323a4",
   "metadata": {},
   "outputs": [],
   "source": [
    "import abc"
   ]
  },
  {
   "cell_type": "code",
   "execution_count": 2,
   "id": "391c3192-b96c-40c0-ad31-d0dc1e979a7b",
   "metadata": {},
   "outputs": [],
   "source": [
    "class PW_Skills:\n",
    "    \n",
    "    @abc.abstractmethod\n",
    "    def Students_details(self):\n",
    "        pass\n",
    "    \n",
    "    @abc.abstractmethod\n",
    "    def Assignment_Submitted(self):\n",
    "        pass\n",
    "    \n",
    "    @abc.abstractmethod\n",
    "    def Assignment_Score(self):\n",
    "        pass"
   ]
  },
  {
   "cell_type": "code",
   "execution_count": 3,
   "id": "7d2410fc-cd53-4340-81c1-7c639cf730e3",
   "metadata": {},
   "outputs": [],
   "source": [
    "class Data_Science(PW_Skills):\n",
    "    \n",
    "    def __init__(self, Student_Name, Email_id, Mobile_No, Mother_Name, Father_Name):\n",
    "        self.Student_Name = Student_Name\n",
    "        self.Email_id = Email_id\n",
    "        self.Mobile_No = Mobile_No\n",
    "        self.Mother_Name = Mother_Name\n",
    "        self.Father_Name = Father_Name\n",
    "        \n",
    "    def Students_details(self):\n",
    "        print('Name:', self.Student_Name)\n",
    "        print(\"Email I'd:\", self.Email_id)\n",
    "        print('Mobile Number:', self.Mobile_No)\n",
    "        print(\"Mother's Name:\", self.Mother_Name)\n",
    "        print(\"Father's Name:\", self.Father_Name)\n",
    "        \n",
    "    def Assignment_Submitted(self, Total_No_of_Assignment, No_Assignment_Submitted):\n",
    "        Remaining_Assignment = Total_No_of_Assignment - No_Assignment_Submitted\n",
    "        print('Remaining Assignment:', Remaining_Assignment)\n",
    "        \n",
    "    def Assignment_Score(self, Total_No_of_Assignment, Total_Assignment_Score,\n",
    "                         No_Assignment_Submitted, Assignment_Score_You_Got):\n",
    "        \n",
    "        Remaining_Assignment = Total_No_of_Assignment - No_Assignment_Submitted\n",
    "        print('You have to submit your remaining', Remaining_Assignment, 'assignment(s)')\n",
    "        if Remaining_Assignment > 0:\n",
    "            average_score_needed = (Total_Assignment_Score - Assignment_Score_You_Got) / Remaining_Assignment\n",
    "            print('Average score needed for remaining assignment(s):', average_score_needed)"
   ]
  },
  {
   "cell_type": "code",
   "execution_count": 4,
   "id": "7ee00587-751b-402f-bc2f-26443db59f27",
   "metadata": {},
   "outputs": [],
   "source": [
    "data_science = Data_Science('Raj Kumar','raj420@gmail.com', 9876543210, 'Vinita Devi', 'Suresh Sinha')"
   ]
  },
  {
   "cell_type": "code",
   "execution_count": 5,
   "id": "f41e0a54-0001-4cd8-ae17-ab550834c128",
   "metadata": {},
   "outputs": [
    {
     "name": "stdout",
     "output_type": "stream",
     "text": [
      "Name: Raj Kumar\n",
      "Email I'd: raj420@gmail.com\n",
      "Mobile Number: 9876543210\n",
      "Mother's Name: Vinita Devi\n",
      "Father's Name: Suresh Sinha\n"
     ]
    }
   ],
   "source": [
    "data_science.Students_details()"
   ]
  },
  {
   "cell_type": "code",
   "execution_count": 6,
   "id": "b80405bb-b2ba-4590-a8c9-f993c3d8f551",
   "metadata": {},
   "outputs": [
    {
     "name": "stdin",
     "output_type": "stream",
     "text": [
      "Enter the total number of assignments:  11\n",
      "Enter the number of assignments you have submitted:  4\n",
      "Enter the total assignment score:  670\n",
      "Enter the assignment score you got:  246\n"
     ]
    }
   ],
   "source": [
    "total_assignments = int(input(\"Enter the total number of assignments: \"))\n",
    "assignments_submitted = int(input(\"Enter the number of assignments you have submitted: \"))\n",
    "total_score = int(input(\"Enter the total assignment score: \"))\n",
    "score_got = int(input(\"Enter the assignment score you got: \"))"
   ]
  },
  {
   "cell_type": "code",
   "execution_count": 7,
   "id": "2861342c-c19b-4fbf-bd21-843ae6c8973a",
   "metadata": {},
   "outputs": [
    {
     "name": "stdout",
     "output_type": "stream",
     "text": [
      "Remaining Assignment: 7\n"
     ]
    }
   ],
   "source": [
    "data_science.Assignment_Submitted(total_assignments, assignments_submitted)"
   ]
  },
  {
   "cell_type": "code",
   "execution_count": 8,
   "id": "e54bdc37-eed2-4c08-9744-733cb16d41f6",
   "metadata": {},
   "outputs": [
    {
     "name": "stdout",
     "output_type": "stream",
     "text": [
      "You have to submit your remaining 7 assignment(s)\n",
      "Average score needed for remaining assignment(s): 60.57142857142857\n"
     ]
    }
   ],
   "source": [
    "data_science.Assignment_Score(total_assignments, total_score, assignments_submitted, score_got)"
   ]
  },
  {
   "cell_type": "markdown",
   "id": "6099558f-de2a-40b2-bf21-485f43ae4e18",
   "metadata": {},
   "source": [
    "----------------------------------------------------------------------------------------------------------------"
   ]
  },
  {
   "cell_type": "markdown",
   "id": "34c37421-3f04-4cea-8884-3a065629c66e",
   "metadata": {},
   "source": [
    "Q.No-02    Differentiate between Abstraction and Encapsulation. Explain with an example."
   ]
  },
  {
   "cell_type": "markdown",
   "id": "f5459156-ec44-48b0-8a3f-6e9c3ecba99b",
   "metadata": {},
   "source": [
    "Ans:"
   ]
  },
  {
   "cell_type": "markdown",
   "id": "ee835c03-bb2a-4668-b556-4a5aaaf89479",
   "metadata": {},
   "source": [
    "Abstraction and encapsulation are two important concepts in object-oriented programming that help in designing modular and maintainable code. While they are related concepts, they have distinct meanings and purposes."
   ]
  },
  {
   "cell_type": "markdown",
   "id": "93b5c5e0-c287-43cf-97ca-b9cdd44c367e",
   "metadata": {},
   "source": [
    "Abstraction refers to the process of simplifying complex systems by identifying the essential features and ignoring the irrelevant details. It allows us to create a high-level view of an object or a system, focusing on its behavior and functionality rather than its implementation details. Abstraction is achieved through abstract classes and interfaces in object-oriented programming."
   ]
  },
  {
   "cell_type": "markdown",
   "id": "44233633-5d87-45d0-97af-339b159c0aff",
   "metadata": {},
   "source": [
    "By encapsulating the data and methods within the Car class, we ensure that the internal details of the car are hidden from the external code that interacts with it. Other parts of the program can use the Car class without worrying about the specific implementation details or accidentally modifying the internal state in an unintended way."
   ]
  },
  {
   "cell_type": "markdown",
   "id": "aa47ed9d-2d87-4b86-85a2-2c3ac5bd1db4",
   "metadata": {},
   "source": [
    "In summary, abstraction focuses on defining a simplified view of an object or system by emphasizing its behavior, while encapsulation emphasizes bundling data and methods into a single unit, protecting the internal state and providing controlled access to it"
   ]
  },
  {
   "cell_type": "markdown",
   "id": "3d43f0cf-e3ae-442d-ae93-7a169187a412",
   "metadata": {},
   "source": [
    "For Example:"
   ]
  },
  {
   "cell_type": "code",
   "execution_count": 28,
   "id": "1c4eb46d-439c-4478-9c5a-91ffe81ff300",
   "metadata": {},
   "outputs": [],
   "source": [
    "import abc"
   ]
  },
  {
   "cell_type": "code",
   "execution_count": 31,
   "id": "bc876172-e9da-4660-a84e-4d4e89f4d375",
   "metadata": {},
   "outputs": [],
   "source": [
    "class Vehicle:\n",
    "    \n",
    "    @abc.abstractmethod\n",
    "    def Ownership_Details(self):\n",
    "        pass\n",
    "    \n",
    "    @abc.abstractmethod\n",
    "    def Vehical_Details(self):\n",
    "        pass"
   ]
  },
  {
   "cell_type": "code",
   "execution_count": 35,
   "id": "9458d4d0-3479-4fdc-a85b-e58c85fde8cc",
   "metadata": {},
   "outputs": [],
   "source": [
    "class Car(Vehicle):\n",
    "    def __init__(self):\n",
    "        self.__Registration_No = \"BR 01 PN 1803\"\n",
    "    \n",
    "    def Ownership_Details(self):\n",
    "        Enter_A_Registration_Number = input('Enter A Registration Number : ')\n",
    "        print()\n",
    "        if Enter_A_Registration_Number == self.__Registration_No:\n",
    "            print('Owner Name : DEV NANDAN SINGH')\n",
    "            print('Ownership : First Owner')\n",
    "            print('Registration Date : 29-Jan-2022')\n",
    "            print(\"Financer's Name (HP) : UNION BANK OF INDIA,SHEIKHPURA BR\")\n",
    "            print('Registered RTO : PATNA, Bihar')\n",
    "        else:\n",
    "            print('error')\n",
    "            \n",
    "        \n",
    "    def Vehical_Details(self):\n",
    "        Enter_A_Registration_Number = input('Enter A Registration Number : ')\n",
    "        print()\n",
    "        if Enter_A_Registration_Number == self.__Registration_No:\n",
    "            print('Maker Model : MAHINDRA & MAHINDRA LIMITED, XUV700 AX7 LPET AT 7 SEATER')\n",
    "            print('Vehicle Class : Motor Car(LMV)')\n",
    "            print('Fuel Type : PETROL')\n",
    "            print('Fuel Norms : BHARAT STAGE VI')\n",
    "            print('Engine No : ZFM4LXXXXX')\n",
    "            print('Chassis No. : MA1NE2ZF8M6LXXXXX')\n",
    "        else:\n",
    "            print('error')\n",
    "            "
   ]
  },
  {
   "cell_type": "code",
   "execution_count": 36,
   "id": "ea8d4e24-336a-4b11-8780-74f16181d452",
   "metadata": {},
   "outputs": [],
   "source": [
    "car = Car()"
   ]
  },
  {
   "cell_type": "code",
   "execution_count": 37,
   "id": "1d9d76cb-ab3f-48f0-b700-969f3451a2af",
   "metadata": {},
   "outputs": [
    {
     "name": "stdin",
     "output_type": "stream",
     "text": [
      "Enter A Registration Number :  BR 01 PN 8000\n"
     ]
    },
    {
     "name": "stdout",
     "output_type": "stream",
     "text": [
      "\n",
      "error\n"
     ]
    }
   ],
   "source": [
    "car.Ownership_Details()"
   ]
  },
  {
   "cell_type": "code",
   "execution_count": 38,
   "id": "898d810e-c054-4d43-bbf2-1dd72049943e",
   "metadata": {},
   "outputs": [
    {
     "name": "stdin",
     "output_type": "stream",
     "text": [
      "Enter A Registration Number :  BR 01 PN 1803\n"
     ]
    },
    {
     "name": "stdout",
     "output_type": "stream",
     "text": [
      "\n",
      "Maker Model : MAHINDRA & MAHINDRA LIMITED, XUV700 AX7 LPET AT 7 SEATER\n",
      "Vehicle Class : Motor Car(LMV)\n",
      "Fuel Type : PETROL\n",
      "Fuel Norms : BHARAT STAGE VI\n",
      "Engine No : ZFM4LXXXXX\n",
      "Chassis No. : MA1NE2ZF8M6LXXXXX\n"
     ]
    }
   ],
   "source": [
    "car.Vehical_Details()"
   ]
  },
  {
   "cell_type": "markdown",
   "id": "d0d13881-86c1-49a0-870d-52673c5c3598",
   "metadata": {},
   "source": [
    "-------------------------------------------------------------------------------------------------------------------"
   ]
  },
  {
   "cell_type": "markdown",
   "id": "7e0e998e-ef73-43e5-8f69-57760b003d96",
   "metadata": {},
   "source": [
    "Q.No-03    What is abc module in python? Why is it used?"
   ]
  },
  {
   "cell_type": "markdown",
   "id": "bd66cf66-8f75-4b0a-927f-8dfc1f6f79cb",
   "metadata": {},
   "source": [
    "Ans:"
   ]
  },
  {
   "cell_type": "markdown",
   "id": "1d5b6ab6-c403-407d-bc73-4842249bb9a9",
   "metadata": {},
   "source": [
    "The `abc` module in Python stands for \"Abstract Base Classes.\" It provides a way to define abstract classes in Python."
   ]
  },
  {
   "cell_type": "markdown",
   "id": "8a014076-ff74-45b9-9261-50a6ce26575b",
   "metadata": {},
   "source": [
    "An abstract class is a class that cannot be instantiated directly. It is meant to be subclassed by other classes, which provide implementations for its abstract methods. An abstract method is a method declared in the abstract class that has no implementation in the abstract class itself but must be implemented in its subclasses."
   ]
  },
  {
   "cell_type": "markdown",
   "id": "2257f25f-b6f1-4e73-a3b8-b1b1fbc3c2e1",
   "metadata": {},
   "source": [
    "The `abc` module provides the `ABC` class, which is used as a base class for creating abstract classes. By subclassing `ABC` and using the `@abstractmethod` decorator, you can define abstract methods within the class. Any class that inherits from an abstract class must provide implementations for all its abstract methods, or else it will also be considered abstract."
   ]
  },
  {
   "cell_type": "markdown",
   "id": "9df23556-fc12-4e57-ba5c-8850f59fe3ca",
   "metadata": {},
   "source": [
    "The `abc` module is used for several purposes:"
   ]
  },
  {
   "cell_type": "markdown",
   "id": "2fced554-2a6f-4e8d-a781-601daee52aaf",
   "metadata": {},
   "source": [
    "1. Defining interfaces"
   ]
  },
  {
   "cell_type": "markdown",
   "id": "be4ff64f-9943-48b5-bc62-58200363b119",
   "metadata": {},
   "source": [
    "2. Polymorphism"
   ]
  },
  {
   "cell_type": "markdown",
   "id": "eb52b102-81f1-4401-adcb-f2f26cb8d0b1",
   "metadata": {},
   "source": [
    "3. Encouraging good design"
   ]
  },
  {
   "cell_type": "markdown",
   "id": "9b3dceed-03e9-482e-b791-870553bfd62b",
   "metadata": {},
   "source": [
    "Overall, the `abc` module is used to implement abstract classes and define interfaces in Python, promoting code reuse, polymorphism, and good design practices."
   ]
  },
  {
   "cell_type": "markdown",
   "id": "7ea081e9-5040-4d52-bbf5-ce763b04af1e",
   "metadata": {},
   "source": [
    "-------------------------------------------------------------------------------------------------------------------"
   ]
  },
  {
   "cell_type": "markdown",
   "id": "d6eeafb1-ae4d-4cd2-bbf0-d6dd83c316d7",
   "metadata": {},
   "source": [
    "Q.No-04    How can we achieve data abstraction?"
   ]
  },
  {
   "cell_type": "markdown",
   "id": "a3bef5f2-c556-4f9d-9ed6-25b3ca240377",
   "metadata": {},
   "source": [
    "Ans: "
   ]
  },
  {
   "cell_type": "markdown",
   "id": "fdf3de75-a355-4c54-9421-ee1f0257d1bf",
   "metadata": {},
   "source": [
    "Data abstraction is the process of simplifying complex data structures by providing a high-level view that hides the implementation details. It allows users to interact with data in a more intuitive and manageable way. Here are some ways to achieve data abstraction:"
   ]
  },
  {
   "cell_type": "markdown",
   "id": "2c302f58-8c85-4740-be8c-502d855028fa",
   "metadata": {},
   "source": [
    "1. Encapsulation"
   ]
  },
  {
   "cell_type": "markdown",
   "id": "1b8660fb-e6de-4b54-995d-c1605bd97b44",
   "metadata": {},
   "source": [
    "2. Abstract Data Types (ADTs)"
   ]
  },
  {
   "cell_type": "markdown",
   "id": "42e36a2f-9ae6-44a9-9007-db3761b80e97",
   "metadata": {},
   "source": [
    "3. Object-Oriented Programming (OOP)"
   ]
  },
  {
   "cell_type": "markdown",
   "id": "c1b16e88-4e04-4b72-accb-301047b2bd26",
   "metadata": {},
   "source": [
    "4. Data Modeling"
   ]
  },
  {
   "cell_type": "markdown",
   "id": "1551ec0a-77a4-4f7a-8ced-affe5420f4fc",
   "metadata": {},
   "source": [
    "5. Interfaces and Contracts"
   ]
  },
  {
   "cell_type": "markdown",
   "id": "6c2811d7-a819-47fe-ae45-0008e9b5a12a",
   "metadata": {},
   "source": [
    "6. Data Access Layers"
   ]
  },
  {
   "cell_type": "markdown",
   "id": "038777c7-95b0-4997-b5a6-c382996d6820",
   "metadata": {},
   "source": [
    "By applying these techniques, you can achieve data abstraction and simplify the complexity of working with data, making your code more modular, maintainable, and flexible."
   ]
  },
  {
   "cell_type": "markdown",
   "id": "e5d78f6e-5c0b-43dd-9d6a-1292502d84e5",
   "metadata": {},
   "source": [
    "-------------------------------------------------------------------------------------------------------------------"
   ]
  },
  {
   "cell_type": "markdown",
   "id": "6c216136-d8ad-4edd-b173-8f6c25f301c2",
   "metadata": {},
   "source": [
    "Q.No-05    Can we create an instance of an abstract class? Explain your answer."
   ]
  },
  {
   "cell_type": "markdown",
   "id": "766bf29b-fc7e-4b6e-bcc3-e7cacf5052ef",
   "metadata": {},
   "source": [
    "Ans:"
   ]
  },
  {
   "cell_type": "markdown",
   "id": "37187395-9a23-47bf-b119-27002b423052",
   "metadata": {},
   "source": [
    "No, we cannot create an instance of an abstract class in Python."
   ]
  },
  {
   "cell_type": "markdown",
   "id": "c176503a-e86e-47d2-a235-f7df4f3f5e21",
   "metadata": {},
   "source": [
    "An abstract class is a class that is meant to be inherited by other classes, but it cannot be instantiated on its own. It serves as a blueprint for its subclasses, providing common methods and attributes that the subclasses must implement. Abstract classes are created using the `abc` module in Python, specifically using the `ABC` class as a base class and using the `@abstractmethod` decorator to define abstract methods."
   ]
  },
  {
   "cell_type": "markdown",
   "id": "74efa533-67ed-46dc-abb0-10d0e077da14",
   "metadata": {},
   "source": [
    "When we attempt to instantiate an abstract class, we will encounter a `TypeError` with the message \"Can't instantiate abstract class <ClassName> with abstract methods <method names>\". This error is raised to prevent the creation of objects that are incomplete and don't fully implement the required functionality defined by the abstract methods."
   ]
  },
  {
   "cell_type": "markdown",
   "id": "6e7cdd40-36e8-440c-8b66-9fa8199932fd",
   "metadata": {},
   "source": [
    "To create an instance of a class and make use of the methods defined in an abstract class, we need to create a subclass that inherits from the abstract class and implements all the abstract methods. The subclass can then be instantiated and used to access the methods and attributes defined in both the abstract class and the subclass itself."
   ]
  },
  {
   "cell_type": "code",
   "execution_count": null,
   "id": "baaf1563-62de-4a5f-b160-8094d0e992fc",
   "metadata": {},
   "outputs": [],
   "source": []
  }
 ],
 "metadata": {
  "kernelspec": {
   "display_name": "Python 3 (ipykernel)",
   "language": "python",
   "name": "python3"
  },
  "language_info": {
   "codemirror_mode": {
    "name": "ipython",
    "version": 3
   },
   "file_extension": ".py",
   "mimetype": "text/x-python",
   "name": "python",
   "nbconvert_exporter": "python",
   "pygments_lexer": "ipython3",
   "version": "3.10.8"
  }
 },
 "nbformat": 4,
 "nbformat_minor": 5
}
